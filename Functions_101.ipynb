{
  "nbformat": 4,
  "nbformat_minor": 0,
  "metadata": {
    "colab": {
      "provenance": []
    },
    "kernelspec": {
      "name": "python3",
      "display_name": "Python 3"
    },
    "language_info": {
      "name": "python"
    }
  },
  "cells": [
    {
      "cell_type": "markdown",
      "source": [
        "## Python Functions Hello\n"
      ],
      "metadata": {
        "id": "Ge9vyreDmWWv"
      }
    },
    {
      "cell_type": "code",
      "execution_count": 2,
      "metadata": {
        "id": "OTuD4IhqmQ59"
      },
      "outputs": [],
      "source": [
        "def hello():pass"
      ]
    },
    {
      "cell_type": "code",
      "source": [
        "def hello2():\n",
        "    print(\"hi\")\n"
      ],
      "metadata": {
        "id": "jiO_omZTmd3x"
      },
      "execution_count": 5,
      "outputs": []
    },
    {
      "cell_type": "code",
      "source": [
        "hello2()"
      ],
      "metadata": {
        "colab": {
          "base_uri": "https://localhost:8080/"
        },
        "id": "fGqyU5kGmpB8",
        "outputId": "eb0bb1c8-ca74-4008-c475-a3377df0005f"
      },
      "execution_count": 6,
      "outputs": [
        {
          "output_type": "stream",
          "name": "stdout",
          "text": [
            "hi\n"
          ]
        }
      ]
    },
    {
      "cell_type": "code",
      "source": [
        "def hello3():\n",
        "    return \"Hi\""
      ],
      "metadata": {
        "id": "J7iesgmemqnI"
      },
      "execution_count": 7,
      "outputs": []
    },
    {
      "cell_type": "code",
      "source": [
        "hello3()"
      ],
      "metadata": {
        "colab": {
          "base_uri": "https://localhost:8080/",
          "height": 35
        },
        "id": "-BrMLPTbmyKp",
        "outputId": "104bd31d-201a-4c12-dfd6-78d3e14cfabc"
      },
      "execution_count": 8,
      "outputs": [
        {
          "output_type": "execute_result",
          "data": {
            "text/plain": [
              "'Hi'"
            ],
            "application/vnd.google.colaboratory.intrinsic+json": {
              "type": "string"
            }
          },
          "metadata": {},
          "execution_count": 8
        }
      ]
    },
    {
      "cell_type": "code",
      "source": [
        "return_value_hello2 = hello2()\n",
        "return_value_hello3 = hello3()"
      ],
      "metadata": {
        "colab": {
          "base_uri": "https://localhost:8080/"
        },
        "id": "ZG2tuLRQmzb5",
        "outputId": "582fef9f-fed3-467c-af42-03aff514d7db"
      },
      "execution_count": 9,
      "outputs": [
        {
          "output_type": "stream",
          "name": "stdout",
          "text": [
            "hi\n"
          ]
        }
      ]
    },
    {
      "cell_type": "code",
      "source": [
        "return_value_hello2"
      ],
      "metadata": {
        "id": "mhmMsrSWm7GS"
      },
      "execution_count": 10,
      "outputs": []
    },
    {
      "cell_type": "code",
      "source": [
        "return_value_hello3"
      ],
      "metadata": {
        "colab": {
          "base_uri": "https://localhost:8080/",
          "height": 35
        },
        "id": "8BUmJRlVm8kg",
        "outputId": "ab628b2f-61c7-44b0-f2bd-05120cd9d7cd"
      },
      "execution_count": 11,
      "outputs": [
        {
          "output_type": "execute_result",
          "data": {
            "text/plain": [
              "'Hi'"
            ],
            "application/vnd.google.colaboratory.intrinsic+json": {
              "type": "string"
            }
          },
          "metadata": {},
          "execution_count": 11
        }
      ]
    },
    {
      "cell_type": "code",
      "source": [
        "def hello4(name):\n",
        "    return f\"Hi {name}\""
      ],
      "metadata": {
        "id": "n7xsigT7nLdt"
      },
      "execution_count": 12,
      "outputs": []
    },
    {
      "cell_type": "code",
      "source": [
        "return_value_hello4 = hello4(\"John\")"
      ],
      "metadata": {
        "id": "NfTW3vaznTbW"
      },
      "execution_count": 13,
      "outputs": []
    },
    {
      "cell_type": "code",
      "source": [
        "return_value_hello4"
      ],
      "metadata": {
        "colab": {
          "base_uri": "https://localhost:8080/",
          "height": 35
        },
        "id": "0sTBuEg-nXkJ",
        "outputId": "56cb9bbf-6be2-49d2-e455-3d77c975d734"
      },
      "execution_count": 14,
      "outputs": [
        {
          "output_type": "execute_result",
          "data": {
            "text/plain": [
              "'Hi John'"
            ],
            "application/vnd.google.colaboratory.intrinsic+json": {
              "type": "string"
            }
          },
          "metadata": {},
          "execution_count": 14
        }
      ]
    }
  ]
}